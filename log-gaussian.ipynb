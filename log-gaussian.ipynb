{
 "cells": [
  {
   "cell_type": "code",
   "execution_count": 5,
   "metadata": {},
   "outputs": [],
   "source": [
    "from mc import sample_data, run_model, plot_histogram\n",
    "import numpy as np\n",
    "import matplotlib.pyplot as plt\n",
    "import seaborn as sns\n",
    "import torch\n",
    "from resnet import ResNet\n",
    "from balanced_resnet import BalancedResNet"
   ]
  },
  {
   "cell_type": "code",
   "execution_count": 8,
   "metadata": {},
   "outputs": [],
   "source": [
    "N = 10000\n",
    "n = 100\n",
    "d = 10\n",
    "n_in = 10\n",
    "n_out = 10\n",
    "device = torch.device('cuda' if torch.cuda.is_available() else 'cpu')\n",
    "\n",
    "X = torch.ones((N, n_in)) / np.sqrt(n_in)\n",
    "y = torch.zeros((N, 10))\n",
    "\n",
    "X = X.to(device)\n",
    "y = y.to(device)\n",
    "with torch.no_grad():\n",
    "    for i in range(N):\n",
    "        model = ResNet(n_in, n_out, n, d)\n",
    "        model = model.to(device)\n",
    "        y[i] = model(X[i])\n",
    "y = torch.log(torch.norm(y, dim=1)**2)"
   ]
  },
  {
   "cell_type": "code",
   "execution_count": 9,
   "metadata": {},
   "outputs": [
    {
     "data": {
      "image/png": "[encoded data removed]",
      "text/plain": [
       "<Figure size 640x480 with 1 Axes>"
      ]
     },
     "metadata": {},
     "output_type": "display_data"
    }
   ],
   "source": [
    "fig = plt.figure()\n",
    "ax = fig.add_subplot(111)\n",
    "y = y.cpu().numpy()\n",
    "ax.hist(y, bins=100, density=True)\n",
    "plt.show()"
   ]
  }
 ],
 "metadata": {
  "kernelspec": {
   "display_name": "default",
   "language": "python",
   "name": "python3"
  },
  "language_info": {
   "codemirror_mode": {
    "name": "ipython",
    "version": 3
   },
   "file_extension": ".py",
   "mimetype": "text/x-python",
   "name": "python",
   "nbconvert_exporter": "python",
   "pygments_lexer": "ipython3",
   "version": "3.11.5"
  }
 },
 "nbformat": 4,
 "nbformat_minor": 2
}
